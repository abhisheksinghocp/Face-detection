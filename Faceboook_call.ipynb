{
 "cells": [
  {
   "cell_type": "code",
   "execution_count": 51,
   "metadata": {
    "collapsed": false
   },
   "outputs": [
    {
     "name": "stdout",
     "output_type": "stream",
     "text": [
      "{'summary': {'total_count': 476}, 'paging': {'cursors': {'before': 'QVFIUnExRFMxMjVlMVBsU3JPMms5XzRWcjQyT2lOZA3lnU3F2YldVcGR2V2NEdnJ3WFNNS3B0VUhJTTgxdy1oR0h0UzAZD', 'after': 'QVFIUllEbkw2blJMX1gwMk93Yjc3alNnLWhDYTAwRS14a3BuYnVPNVRMV0ZAGeEN5WENCZA2FpTTFHLTJwZAjNfNmRxZA1VjZA2ZAYLXVjaG9ocm5xbGxya1Rldnh3'}}, 'data': [{'gender': 'male', 'name': 'Anil Kumar', 'picture': {'data': {'url': 'https://scontent.xx.fbcdn.net/v/t1.0-1/1555297_10203180067996002_8410599469954184449_n.jpg?oh=f028e1d2a04072a25ba3622cfb2e6cea&oe=5A4C5A47', 'height': 427, 'is_silhouette': False, 'width': 427}}, 'id': '10205575605482942'}, {'gender': 'male', 'name': 'Madhu Malapaka', 'picture': {'data': {'url': 'https://scontent.xx.fbcdn.net/v/t1.0-1/c0.74.444.444/401295_2909261446605_1537234311_n.jpg?oh=6bc22b3bea90a3dda58fdc6ac13a3d66&oe=5A773DB1', 'height': 444, 'is_silhouette': False, 'width': 444}}, 'id': '10207725524712104'}, {'gender': 'male', 'name': 'Venkatesh Bhandaru', 'picture': {'data': {'url': 'https://scontent.xx.fbcdn.net/v/t31.0-1/c0.448.1152.1152/16826227_10209136519550764_1567834259813092097_o.jpg?oh=13d3a3b169b76ccebb34035b77ac9d68&oe=5A4207DB', 'height': 1152, 'is_silhouette': False, 'width': 1152}}, 'id': '10204600587235291'}, {'gender': 'female', 'name': 'Kavitha Varma', 'picture': {'data': {'url': 'https://scontent.xx.fbcdn.net/v/t1.0-1/c1.0.591.591/21462816_1455269764556690_7486218956776663730_n.jpg?oh=db3a630a6ab7fc1080306a637a2b3d69&oe=5A7EF64E', 'height': 591, 'is_silhouette': False, 'width': 591}}, 'id': '100002210400891'}]}\n",
      "Anil Kumar_10205575605482942.jpg downloaded...\n",
      "Madhu Malapaka_10207725524712104.jpg downloaded...\n",
      "Venkatesh Bhandaru_10204600587235291.jpg downloaded...\n",
      "Kavitha Varma_100002210400891.jpg downloaded...\n"
     ]
    }
   ],
   "source": [
    "import requests\n",
    "import json\n",
    "#from urllib import build_opener\n",
    "import webbrowser\n",
    "from pprint import pprint\n",
    "from urllib.request import *\n",
    "\n",
    "token = 'EAACEdEose0cBACgUnaksB25QbZAWAODd5r55HvOCCqKDaZBXZBvLYBTPz6gbaQSswvX4XikkJBYaSA7DPArbNhui2ttTM0ZAiNoEsNrYkevw4we1B3Fo78jewxXP18eD0BWbUSUKaPX3UVRlO33FRwI3V08UmONesgcsVChwWXJ5ttEZAXiIsZA6Y9NKkESZCQZD'\n",
    "api_url = 'https://graph.facebook.com/v2.10/'\n",
    "params = {'access_token' : token}\n",
    "\n",
    "\n",
    "def extractFriends():\n",
    "    call = \"me/friends?fields=picture.width(9999).height(9999).type(large),gender,name\"\n",
    "    response = requests.get(api_url + call, params=params)\n",
    "    #response = urlopen(api_url + call, params=params).read().decode('utf8')\n",
    "    #print(response)\n",
    "    #print(response.content)\n",
    "    r = (json.loads(response.content.decode('utf-8')))\n",
    "    print(r)\n",
    "    for f in r['data']:\n",
    "        #print f['name'], f['gender']\n",
    "        p_url = str(f['picture']['data']['url'])\n",
    "        #print p_url\n",
    "        \n",
    "        opener1 = urllib.request.build_opener()\n",
    "        page1 = opener1.open(p_url)\n",
    "        my_picture = page1.read()\n",
    "\n",
    "        filename = f['name']+\"_\"+f['id']+\".jpg\"\n",
    "        print (filename+\" downloaded...\")\n",
    "        fout = open('A:\\\\people\\\\'+filename, \"wb\")\n",
    "        fout.write(my_picture)\n",
    "        fout.close()\n",
    "        \n",
    "extractFriends()"
   ]
  }
 ],
 "metadata": {
  "anaconda-cloud": {},
  "kernelspec": {
   "display_name": "Python [conda root]",
   "language": "python",
   "name": "conda-root-py"
  },
  "language_info": {
   "codemirror_mode": {
    "name": "ipython",
    "version": 3
   },
   "file_extension": ".py",
   "mimetype": "text/x-python",
   "name": "python",
   "nbconvert_exporter": "python",
   "pygments_lexer": "ipython3",
   "version": "3.5.2"
  }
 },
 "nbformat": 4,
 "nbformat_minor": 1
}
